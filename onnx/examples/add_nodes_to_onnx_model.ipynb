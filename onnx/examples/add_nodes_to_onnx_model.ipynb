{
 "metadata": {
  "language_info": {
   "codemirror_mode": {
    "name": "ipython",
    "version": 3
   },
   "file_extension": ".py",
   "mimetype": "text/x-python",
   "name": "python",
   "nbconvert_exporter": "python",
   "pygments_lexer": "ipython3",
   "version": "3.7.9-final"
  },
  "orig_nbformat": 2,
  "kernelspec": {
   "name": "python3",
   "display_name": "Python 3.7.9 64-bit",
   "metadata": {
    "interpreter": {
     "hash": "57baa5815c940fdaff4d14510622de9616cae602444507ba5d0b6727c008cbd6"
    }
   }
  }
 },
 "nbformat": 4,
 "nbformat_minor": 2,
 "cells": [
  {
   "source": [
    "# Adding nodes to the graph\n",
    "## Adding 2 cast nodes to the first graph\n",
    "# ![Graph 1](resources/Graph_1.jpg)\n"
   ],
   "cell_type": "markdown",
   "metadata": {}
  },
  {
   "cell_type": "code",
   "execution_count": 1,
   "metadata": {},
   "outputs": [],
   "source": [
    "from __future__ import absolute_import\n",
    "from __future__ import division\n",
    "from __future__ import print_function\n",
    "from __future__ import unicode_literals\n",
    "\n",
    "import onnx\n",
    "from onnx import helper\n",
    "from onnx import AttributeProto, TensorProto, GraphProto\n",
    "import numpy as np\n",
    "# The protobuf definition can be found here:\n",
    "# https://github.com/onnx/onnx/blob/master/onnx/onnx.proto\n",
    "\n",
    "\n",
    "# Create inputs (ValueInfoProto)\n",
    "X1 = helper.make_tensor_value_info('X1', TensorProto.FLOAT, [1, 1])\n",
    "X2 = helper.make_tensor_value_info('X2', TensorProto.FLOAT, [1, 1])\n",
    "\n",
    "# Create one output (ValueInfoProto)\n",
    "Y = helper.make_tensor_value_info('Y', TensorProto.FLOAT, [1, 1])\n",
    "\n",
    "# Creating a Node (NodeProto)\n",
    "node_def = helper.make_node(\n",
    "    'Mul', # node name\n",
    "    ['X1', 'X2'], # inputs\n",
    "    ['Y'], # outputs\n",
    ")\n",
    "\n",
    "# Create the graph (GraphProto)\n",
    "graph_def = helper.make_graph(\n",
    "    [node_def],\n",
    "    'test-model',\n",
    "    [X1, X2],\n",
    "    [Y],\n",
    ")\n",
    "\n",
    "# # Creating the model (ModelProto)\n",
    "# model_def = helper.make_model(graph_def, producer_name='onnx-example')\n",
    "\n",
    "# # Check and Save the model\n",
    "# onnx.checker.check_model(model_def)\n",
    "# onnx.save(model_def, 'Models/onnx_mutate.onnx')"
   ]
  },
  {
   "source": [
    "## Creating the 2 nodes to be added to the graph"
   ],
   "cell_type": "markdown",
   "metadata": {}
  },
  {
   "cell_type": "code",
   "execution_count": 2,
   "metadata": {},
   "outputs": [],
   "source": [
    "# Create Input (ValueInforProto)\n",
    "I1 = helper.make_tensor_value_info('I1', TensorProto.STRING, [1, 1])\n",
    "I2 = helper.make_tensor_value_info('I2', TensorProto.STRING, [1, 1])\n",
    "\n",
    "# Create output (ValueInfoProto)\n",
    "X1 = helper.make_tensor_value_info('X1', TensorProto.FLOAT, [1, 1])\n",
    "X2 = helper.make_tensor_value_info('X2', TensorProto.FLOAT, [1, 1])\n",
    "\n",
    "node_def_1 = helper.make_node(\n",
    "    'Cast',\n",
    "    ['I1'], # inputs\n",
    "    ['X1'], # outputs\n",
    "    name='c1',\n",
    "    to=getattr(TensorProto, 'FLOAT'),\n",
    ")\n",
    "\n",
    "node_def_2 = helper.make_node(\n",
    "    'Cast',\n",
    "    ['I2'], # inputs\n",
    "    ['X2'], # outputs\n",
    "    name='c2',\n",
    "    to=getattr(TensorProto, 'FLOAT'),\n",
    ")\n"
   ]
  },
  {
   "source": [
    "## Adding the nodes to the model\n",
    "The nodes can be added to the `GraphProto`. Depending on the location of the nodes in the graph, they can be either added to the graph input or graph output.\n",
    "The example here adds to `Cast` nodes to the starting of the graph hence `graph.input` is used."
   ],
   "cell_type": "markdown",
   "metadata": {}
  },
  {
   "cell_type": "code",
   "execution_count": 3,
   "metadata": {},
   "outputs": [],
   "source": [
    "# Adding the required nodes at the topological sorted order\n",
    "graph_def.node.insert(0,node_def_1)\n",
    "graph_def.node.insert(1,node_def_2)\n",
    "\n",
    "# Adjusting the input parameters of the graph\n",
    "graph_def.input.pop()\n",
    "graph_def.input.pop()\n",
    "graph_def.input.insert(0, I1)\n",
    "graph_def.input.insert(1, I2)"
   ]
  },
  {
   "cell_type": "code",
   "execution_count": 4,
   "metadata": {},
   "outputs": [
    {
     "output_type": "stream",
     "name": "stdout",
     "text": [
      "node {\n  input: \"I1\"\n  output: \"X1\"\n  name: \"c1\"\n  op_type: \"Cast\"\n  attribute {\n    name: \"to\"\n    i: 1\n    type: INT\n  }\n}\nnode {\n  input: \"I2\"\n  output: \"X2\"\n  name: \"c2\"\n  op_type: \"Cast\"\n  attribute {\n    name: \"to\"\n    i: 1\n    type: INT\n  }\n}\nnode {\n  input: \"X1\"\n  input: \"X2\"\n  output: \"Y\"\n  op_type: \"Mul\"\n}\nname: \"test-model\"\ninput {\n  name: \"I1\"\n  type {\n    tensor_type {\n      elem_type: 8\n      shape {\n        dim {\n          dim_value: 1\n        }\n        dim {\n          dim_value: 1\n        }\n      }\n    }\n  }\n}\ninput {\n  name: \"I2\"\n  type {\n    tensor_type {\n      elem_type: 8\n      shape {\n        dim {\n          dim_value: 1\n        }\n        dim {\n          dim_value: 1\n        }\n      }\n    }\n  }\n}\noutput {\n  name: \"Y\"\n  type {\n    tensor_type {\n      elem_type: 1\n      shape {\n        dim {\n          dim_value: 1\n        }\n        dim {\n          dim_value: 1\n        }\n      }\n    }\n  }\n}\n\n"
     ]
    }
   ],
   "source": [
    "print(graph_def)"
   ]
  },
  {
   "cell_type": "code",
   "execution_count": 5,
   "metadata": {},
   "outputs": [],
   "source": [
    "# Creating the model(ModelProto) and checking the same\n",
    "model_def = helper.make_model(graph_def, producer_name='onnx-add-node-example')\n",
    "onnx.checker.check_model(model_def)"
   ]
  }
 ]
}